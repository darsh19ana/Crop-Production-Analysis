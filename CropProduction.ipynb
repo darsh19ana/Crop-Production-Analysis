{
 "cells": [
  {
   "cell_type": "code",
   "execution_count": 1,
   "id": "42a60f77-c0a5-4e3e-876f-6ae9c33f5227",
   "metadata": {},
   "outputs": [],
   "source": [
    "import pandas as pd\n",
    "import numpy as np"
   ]
  },
  {
   "cell_type": "code",
   "execution_count": 2,
   "id": "04c63e0d-c942-4478-9293-7177b514017b",
   "metadata": {},
   "outputs": [],
   "source": [
    "df = pd.read_csv(r\"https://raw.githubusercontent.com/darsh19ana/Crop-Production-Analysis/main/Power%20BI%20enabled%20Crop%20Production%20Analysis.csv\")"
   ]
  },
  {
   "cell_type": "code",
   "execution_count": 3,
   "id": "83dbbb88-3b54-4c31-a556-9d3f2cc04a42",
   "metadata": {},
   "outputs": [
    {
     "data": {
      "text/html": [
       "<div>\n",
       "<style scoped>\n",
       "    .dataframe tbody tr th:only-of-type {\n",
       "        vertical-align: middle;\n",
       "    }\n",
       "\n",
       "    .dataframe tbody tr th {\n",
       "        vertical-align: top;\n",
       "    }\n",
       "\n",
       "    .dataframe thead th {\n",
       "        text-align: right;\n",
       "    }\n",
       "</style>\n",
       "<table border=\"1\" class=\"dataframe\">\n",
       "  <thead>\n",
       "    <tr style=\"text-align: right;\">\n",
       "      <th></th>\n",
       "      <th>Unnamed: 0</th>\n",
       "      <th>State_Name</th>\n",
       "      <th>District_Name</th>\n",
       "      <th>Crop_Year</th>\n",
       "      <th>Season</th>\n",
       "      <th>Crop</th>\n",
       "      <th>Area</th>\n",
       "      <th>Production</th>\n",
       "    </tr>\n",
       "  </thead>\n",
       "  <tbody>\n",
       "    <tr>\n",
       "      <th>0</th>\n",
       "      <td>0</td>\n",
       "      <td>Bihar</td>\n",
       "      <td>NALANDA</td>\n",
       "      <td>1997</td>\n",
       "      <td>Rabi</td>\n",
       "      <td>Wheat</td>\n",
       "      <td>81934.0</td>\n",
       "      <td>160425.0</td>\n",
       "    </tr>\n",
       "    <tr>\n",
       "      <th>1</th>\n",
       "      <td>1</td>\n",
       "      <td>Assam</td>\n",
       "      <td>KARBI ANGLONG</td>\n",
       "      <td>2011</td>\n",
       "      <td>Whole Year</td>\n",
       "      <td>Onion</td>\n",
       "      <td>257.0</td>\n",
       "      <td>514.0</td>\n",
       "    </tr>\n",
       "    <tr>\n",
       "      <th>2</th>\n",
       "      <td>2</td>\n",
       "      <td>Gujarat</td>\n",
       "      <td>ANAND</td>\n",
       "      <td>2012</td>\n",
       "      <td>Summer</td>\n",
       "      <td>Maize</td>\n",
       "      <td>100.0</td>\n",
       "      <td>100.0</td>\n",
       "    </tr>\n",
       "  </tbody>\n",
       "</table>\n",
       "</div>"
      ],
      "text/plain": [
       "   Unnamed: 0 State_Name  District_Name  Crop_Year       Season   Crop  \\\n",
       "0           0      Bihar        NALANDA       1997  Rabi         Wheat   \n",
       "1           1      Assam  KARBI ANGLONG       2011  Whole Year   Onion   \n",
       "2           2    Gujarat          ANAND       2012  Summer       Maize   \n",
       "\n",
       "      Area  Production  \n",
       "0  81934.0    160425.0  \n",
       "1    257.0       514.0  \n",
       "2    100.0       100.0  "
      ]
     },
     "execution_count": 3,
     "metadata": {},
     "output_type": "execute_result"
    }
   ],
   "source": [
    "df.head(3)"
   ]
  },
  {
   "cell_type": "code",
   "execution_count": 4,
   "id": "0cc5875c-ff53-4ba1-84a1-1833a085b13f",
   "metadata": {},
   "outputs": [
    {
     "data": {
      "text/html": [
       "<div>\n",
       "<style scoped>\n",
       "    .dataframe tbody tr th:only-of-type {\n",
       "        vertical-align: middle;\n",
       "    }\n",
       "\n",
       "    .dataframe tbody tr th {\n",
       "        vertical-align: top;\n",
       "    }\n",
       "\n",
       "    .dataframe thead th {\n",
       "        text-align: right;\n",
       "    }\n",
       "</style>\n",
       "<table border=\"1\" class=\"dataframe\">\n",
       "  <thead>\n",
       "    <tr style=\"text-align: right;\">\n",
       "      <th></th>\n",
       "      <th>State_Name</th>\n",
       "      <th>District_Name</th>\n",
       "      <th>Crop_Year</th>\n",
       "      <th>Season</th>\n",
       "      <th>Crop</th>\n",
       "      <th>Area</th>\n",
       "      <th>Production</th>\n",
       "    </tr>\n",
       "  </thead>\n",
       "  <tbody>\n",
       "    <tr>\n",
       "      <th>0</th>\n",
       "      <td>Bihar</td>\n",
       "      <td>NALANDA</td>\n",
       "      <td>1997</td>\n",
       "      <td>Rabi</td>\n",
       "      <td>Wheat</td>\n",
       "      <td>81934.0</td>\n",
       "      <td>160425.0</td>\n",
       "    </tr>\n",
       "    <tr>\n",
       "      <th>1</th>\n",
       "      <td>Assam</td>\n",
       "      <td>KARBI ANGLONG</td>\n",
       "      <td>2011</td>\n",
       "      <td>Whole Year</td>\n",
       "      <td>Onion</td>\n",
       "      <td>257.0</td>\n",
       "      <td>514.0</td>\n",
       "    </tr>\n",
       "    <tr>\n",
       "      <th>2</th>\n",
       "      <td>Gujarat</td>\n",
       "      <td>ANAND</td>\n",
       "      <td>2012</td>\n",
       "      <td>Summer</td>\n",
       "      <td>Maize</td>\n",
       "      <td>100.0</td>\n",
       "      <td>100.0</td>\n",
       "    </tr>\n",
       "  </tbody>\n",
       "</table>\n",
       "</div>"
      ],
      "text/plain": [
       "  State_Name  District_Name  Crop_Year       Season   Crop     Area  \\\n",
       "0      Bihar        NALANDA       1997  Rabi         Wheat  81934.0   \n",
       "1      Assam  KARBI ANGLONG       2011  Whole Year   Onion    257.0   \n",
       "2    Gujarat          ANAND       2012  Summer       Maize    100.0   \n",
       "\n",
       "   Production  \n",
       "0    160425.0  \n",
       "1       514.0  \n",
       "2       100.0  "
      ]
     },
     "execution_count": 4,
     "metadata": {},
     "output_type": "execute_result"
    }
   ],
   "source": [
    "df = df.drop('Unnamed: 0', axis=1)\n",
    "df.head(3)"
   ]
  },
  {
   "cell_type": "code",
   "execution_count": 5,
   "id": "ee0f90c0-e5d5-4565-afc7-90315d7e40cb",
   "metadata": {},
   "outputs": [
    {
     "name": "stdout",
     "output_type": "stream",
     "text": [
      "<class 'pandas.core.frame.DataFrame'>\n",
      "RangeIndex: 73827 entries, 0 to 73826\n",
      "Data columns (total 7 columns):\n",
      " #   Column         Non-Null Count  Dtype  \n",
      "---  ------         --------------  -----  \n",
      " 0   State_Name     73827 non-null  object \n",
      " 1   District_Name  73827 non-null  object \n",
      " 2   Crop_Year      73827 non-null  int64  \n",
      " 3   Season         73827 non-null  object \n",
      " 4   Crop           73827 non-null  object \n",
      " 5   Area           73827 non-null  float64\n",
      " 6   Production     72731 non-null  float64\n",
      "dtypes: float64(2), int64(1), object(4)\n",
      "memory usage: 3.9+ MB\n"
     ]
    }
   ],
   "source": [
    "df.info()"
   ]
  },
  {
   "cell_type": "code",
   "execution_count": 6,
   "id": "ee97c4e6-98c6-462a-8ae2-a688b7b076f2",
   "metadata": {},
   "outputs": [
    {
     "data": {
      "text/html": [
       "<div>\n",
       "<style scoped>\n",
       "    .dataframe tbody tr th:only-of-type {\n",
       "        vertical-align: middle;\n",
       "    }\n",
       "\n",
       "    .dataframe tbody tr th {\n",
       "        vertical-align: top;\n",
       "    }\n",
       "\n",
       "    .dataframe thead th {\n",
       "        text-align: right;\n",
       "    }\n",
       "</style>\n",
       "<table border=\"1\" class=\"dataframe\">\n",
       "  <thead>\n",
       "    <tr style=\"text-align: right;\">\n",
       "      <th></th>\n",
       "      <th>Crop_Year</th>\n",
       "      <th>Area</th>\n",
       "      <th>Production</th>\n",
       "    </tr>\n",
       "  </thead>\n",
       "  <tbody>\n",
       "    <tr>\n",
       "      <th>count</th>\n",
       "      <td>73827.000000</td>\n",
       "      <td>7.382700e+04</td>\n",
       "      <td>7.273100e+04</td>\n",
       "    </tr>\n",
       "    <tr>\n",
       "      <th>mean</th>\n",
       "      <td>2005.657551</td>\n",
       "      <td>1.218297e+04</td>\n",
       "      <td>6.210320e+05</td>\n",
       "    </tr>\n",
       "    <tr>\n",
       "      <th>std</th>\n",
       "      <td>4.954910</td>\n",
       "      <td>5.348285e+04</td>\n",
       "      <td>1.749756e+07</td>\n",
       "    </tr>\n",
       "    <tr>\n",
       "      <th>min</th>\n",
       "      <td>1997.000000</td>\n",
       "      <td>4.000000e-02</td>\n",
       "      <td>0.000000e+00</td>\n",
       "    </tr>\n",
       "    <tr>\n",
       "      <th>25%</th>\n",
       "      <td>2002.000000</td>\n",
       "      <td>8.100000e+01</td>\n",
       "      <td>8.900000e+01</td>\n",
       "    </tr>\n",
       "    <tr>\n",
       "      <th>50%</th>\n",
       "      <td>2006.000000</td>\n",
       "      <td>5.900000e+02</td>\n",
       "      <td>7.290000e+02</td>\n",
       "    </tr>\n",
       "    <tr>\n",
       "      <th>75%</th>\n",
       "      <td>2010.000000</td>\n",
       "      <td>4.500000e+03</td>\n",
       "      <td>7.200000e+03</td>\n",
       "    </tr>\n",
       "    <tr>\n",
       "      <th>max</th>\n",
       "      <td>2015.000000</td>\n",
       "      <td>8.580100e+06</td>\n",
       "      <td>1.125000e+09</td>\n",
       "    </tr>\n",
       "  </tbody>\n",
       "</table>\n",
       "</div>"
      ],
      "text/plain": [
       "          Crop_Year          Area    Production\n",
       "count  73827.000000  7.382700e+04  7.273100e+04\n",
       "mean    2005.657551  1.218297e+04  6.210320e+05\n",
       "std        4.954910  5.348285e+04  1.749756e+07\n",
       "min     1997.000000  4.000000e-02  0.000000e+00\n",
       "25%     2002.000000  8.100000e+01  8.900000e+01\n",
       "50%     2006.000000  5.900000e+02  7.290000e+02\n",
       "75%     2010.000000  4.500000e+03  7.200000e+03\n",
       "max     2015.000000  8.580100e+06  1.125000e+09"
      ]
     },
     "execution_count": 6,
     "metadata": {},
     "output_type": "execute_result"
    }
   ],
   "source": [
    "df.describe()"
   ]
  },
  {
   "cell_type": "code",
   "execution_count": 7,
   "id": "e5ea2add-5abc-4097-995c-96666f7e2fb3",
   "metadata": {},
   "outputs": [
    {
     "data": {
      "text/plain": [
       "State_Name        object\n",
       "District_Name     object\n",
       "Crop_Year          int64\n",
       "Season            object\n",
       "Crop              object\n",
       "Area             float64\n",
       "Production       float64\n",
       "dtype: object"
      ]
     },
     "execution_count": 7,
     "metadata": {},
     "output_type": "execute_result"
    }
   ],
   "source": [
    "df.dtypes"
   ]
  },
  {
   "cell_type": "code",
   "execution_count": 8,
   "id": "64a17870-cfcc-4b47-b6b9-940759111d1b",
   "metadata": {},
   "outputs": [
    {
     "data": {
      "text/plain": [
       "(73827, 7)"
      ]
     },
     "execution_count": 8,
     "metadata": {},
     "output_type": "execute_result"
    }
   ],
   "source": [
    "df.shape"
   ]
  },
  {
   "cell_type": "code",
   "execution_count": 9,
   "id": "cb5a3657-2117-4e7c-b079-c6784e208539",
   "metadata": {},
   "outputs": [
    {
     "data": {
      "text/plain": [
       "State_Name          0\n",
       "District_Name       0\n",
       "Crop_Year           0\n",
       "Season              0\n",
       "Crop                0\n",
       "Area                0\n",
       "Production       1096\n",
       "dtype: int64"
      ]
     },
     "execution_count": 9,
     "metadata": {},
     "output_type": "execute_result"
    }
   ],
   "source": [
    "df.isna().sum()"
   ]
  },
  {
   "cell_type": "code",
   "execution_count": 10,
   "id": "1ce1d7da-2e92-458f-8971-9538acc8d570",
   "metadata": {},
   "outputs": [],
   "source": [
    "# we have 73827 rows and out of that 1096 were null (1.48%) so we decided to drop these rows for better analysis\n",
    "df.dropna(inplace=True) "
   ]
  },
  {
   "cell_type": "code",
   "execution_count": 11,
   "id": "17d22f57-9a27-47a4-b1b4-2ebe8dda1a86",
   "metadata": {},
   "outputs": [
    {
     "data": {
      "text/plain": [
       "State_Name       0\n",
       "District_Name    0\n",
       "Crop_Year        0\n",
       "Season           0\n",
       "Crop             0\n",
       "Area             0\n",
       "Production       0\n",
       "dtype: int64"
      ]
     },
     "execution_count": 11,
     "metadata": {},
     "output_type": "execute_result"
    }
   ],
   "source": [
    "df.isna().sum()"
   ]
  },
  {
   "cell_type": "code",
   "execution_count": 12,
   "id": "55f0b321-0f36-40f6-823f-2539cb7fd86d",
   "metadata": {},
   "outputs": [
    {
     "data": {
      "text/plain": [
       "array(['Bihar', 'Assam', 'Gujarat', 'Karnataka', 'Uttar Pradesh',\n",
       "       'Odisha', 'Rajasthan', 'Chhattisgarh', 'Tamil Nadu', 'Haryana',\n",
       "       'Kerala', 'Madhya Pradesh', 'West Bengal', 'Punjab',\n",
       "       'Andhra Pradesh', 'Maharashtra', 'Telangana ', 'Nagaland',\n",
       "       'Meghalaya', 'Jharkhand', 'Uttarakhand', 'Himachal Pradesh',\n",
       "       'Arunachal Pradesh', 'Mizoram', 'Manipur', 'Puducherry',\n",
       "       'Dadra and Nagar Haveli', 'Chandigarh', 'Sikkim', 'Tripura',\n",
       "       'Jammu and Kashmir ', 'Goa', 'Andaman and Nicobar Islands'],\n",
       "      dtype=object)"
      ]
     },
     "execution_count": 12,
     "metadata": {},
     "output_type": "execute_result"
    }
   ],
   "source": [
    "df.State_Name.unique()"
   ]
  },
  {
   "cell_type": "code",
   "execution_count": 13,
   "id": "f1d9877d-964e-4121-8c50-27aba1ab05c3",
   "metadata": {},
   "outputs": [
    {
     "data": {
      "text/plain": [
       "array(['NALANDA', 'KARBI ANGLONG', 'ANAND', 'UTTAR KANNAD', 'JAUNPUR',\n",
       "       'MARIGAON', 'SONEPUR', 'DHOLPUR', 'BELGAUM', 'MUNGER',\n",
       "       'JANJGIR-CHAMPA', 'SHRAVASTI', 'PATAN', 'KARUR', 'KASGANJ',\n",
       "       'MAHENDRAGARH', 'DHEMAJI', 'BAKSA', 'PATHANAMTHITTA', 'DHAMTARI',\n",
       "       'BELLARY', 'TINSUKIA', 'RAE BARELI', 'KOLAR', 'NEEMUCH',\n",
       "       'BARDHAMAN', 'NAYAGARH', 'AMRITSAR', 'BANSWARA', 'KADAPA',\n",
       "       'NABARANGPUR', 'BHIWANI', 'SHEOHAR', 'PUDUKKOTTAI', 'MADHEPURA',\n",
       "       'SUKMA', 'PARBHANI', 'SRIKAKULAM', 'EAST GODAVARI', 'BIJAPUR',\n",
       "       'NAWADA', 'REWARI', 'PILIBHIT', 'BULDHANA', 'DINAJPUR UTTAR',\n",
       "       'GONDA', 'WEST GODAVARI', 'JALANDHAR', 'RAIGARH', 'ALWAR',\n",
       "       'RANGAREDDI', 'SIRSA', 'KASARAGOD', 'GAYA', 'KAUSHAMBI', 'SEONI',\n",
       "       'KAITHAL', 'DIMAPUR', 'LATUR', 'CHITRADURGA', 'CHITTORGARH',\n",
       "       'DEORIA', 'NANDED', 'MEDAK', 'MALAPPURAM', 'IDUKKI', 'NADIA',\n",
       "       'GONDIA', 'DIMA HASAO', 'CHITTOOR', 'WASHIM', 'AZAMGARH', 'BOUDH',\n",
       "       'KOTA', 'KENDRAPARA', 'RAISEN', 'WEST GARO HILLS', 'BUNDI',\n",
       "       'GODDA', 'RAMPUR', 'SIDDHARTH NAGAR', 'FAIZABAD', 'DINDIGUL',\n",
       "       'BEMETARA', 'TUENSANG', 'GOALPARA', 'TIRUVANNAMALAI', 'ANANTAPUR',\n",
       "       'SUNDARGARH', 'BARGARH', 'HATHRAS', 'JALAUN', 'SANT KABEER NAGAR',\n",
       "       'RUDRA PRAYAG', 'MORENA', 'BALRAMPUR', 'KULLU', 'KUSHI NAGAR',\n",
       "       'JAJAPUR', 'JAMNAGAR', 'COIMBATORE', 'ERODE', 'KATNI', 'KARAULI',\n",
       "       'DEOGARH', 'PATNA', 'CHANDAULI', 'MAHARAJGANJ', 'KHAGARIA',\n",
       "       'BAREILLY', 'KANPUR DEHAT', 'JHUNJHUNU', 'UPPER SIANG', 'KOLASIB',\n",
       "       'KATIHAR', 'NAINITAL', 'AJMER', 'GAJAPATI', 'VIDISHA',\n",
       "       'BANGALORE RURAL', 'KANKER', 'KOLHAPUR', 'BIDAR', 'TAMENGLONG',\n",
       "       'WEST KHASI HILLS', 'VIZIANAGARAM', 'KENDUJHAR', 'PANCHKULA',\n",
       "       'ALLAHABAD', 'MYSORE', 'CHHINDWARA', 'DHULE', 'HARIDWAR',\n",
       "       'SHEIKHPURA', 'SONIPAT', 'BAHRAICH', 'BURHANPUR',\n",
       "       'SANT RAVIDAS NAGAR', 'PITHORAGARH', 'GWALIOR', 'JABALPUR',\n",
       "       'DATIA', 'UDALGURI', 'DARJEELING', 'JAGATSINGHAPUR', 'JHANSI',\n",
       "       'DHUBRI', 'KANNAUJ', 'CUTTACK', 'HOSHIARPUR', 'AKOLA',\n",
       "       'PONDICHERRY', 'PAKUR', 'BALAGHAT', 'VIRUDHUNAGAR', 'CHAMBA',\n",
       "       'JAISALMER', 'CHURU', 'THENI', 'SHEOPUR', '24 PARAGANAS SOUTH',\n",
       "       'SEHORE', 'BAGHPAT', 'ETAWAH', 'YAMUNANAGAR', 'JALNA', 'SARAN',\n",
       "       'SANGLI', 'BEGUSARAI', 'MAHASAMUND', 'BHOPAL', 'ALIRAJPUR',\n",
       "       'UNNAO', 'SAWAI MADHOPUR', 'PAURI GARHWAL', 'BARMER', 'PANNA',\n",
       "       'RAMANAGARA', 'DOHAD', 'LAKHIMPUR', 'MALKANGIRI', 'JASHPUR',\n",
       "       'RAICHUR', 'JEHANABAD', 'THIRUVANANTHAPURAM', 'MADHUBANI',\n",
       "       'RAJKOT', 'MATHURA', 'BARAN', 'DURG', 'MAYURBHANJ', 'BISHNUPUR',\n",
       "       'SAHARSA', 'BANAS KANTHA', 'KISHANGANJ', 'SIROHI', 'LUNGLEI',\n",
       "       'UDAIPUR', 'PALWAL', 'GUNTUR', 'BILASPUR', 'SONBHADRA', 'KHEDA',\n",
       "       'SHAHDOL', 'NALBARI', 'PRAKASAM', 'HOOGHLY', 'AMBEDKAR NAGAR',\n",
       "       'NARSINGHPUR', 'VISAKHAPATANAM', 'NAGAON', 'MUZAFFARNAGAR',\n",
       "       'NAGAUR', 'BHAVNAGAR', 'TEHRI GARHWAL', 'BAGESHWAR', 'JALPAIGURI',\n",
       "       'FIROZEPUR', 'DHARMAPURI', 'KHERI', 'BAGALKOT', 'AHMADABAD',\n",
       "       'SHAJAPUR', 'HAVERI', 'KOZHIKODE', 'SONITPUR', 'BANKURA', 'TUMKUR',\n",
       "       'PURULIA', 'ARARIA', 'KOPPAL', 'PURNIA', 'KABIRDHAM', 'SHIVPURI',\n",
       "       'SULTANPUR', 'CHANGLANG', 'GADCHIROLI', 'BALESHWAR', 'BASTAR',\n",
       "       'JODHPUR', 'SHIMLA', 'MADURAI', 'NAGAPATTINAM', 'SURAT', 'ANUPPUR',\n",
       "       'GUNA', 'DADRA AND NAGAR HAVELI', 'GOPALGANJ', 'JALGAON', 'RATLAM',\n",
       "       'MANDI', 'HANUMANGARH', 'PANIPAT', 'HOWRAH', 'SITAPUR',\n",
       "       'SPSR NELLORE', 'THE NILGIRIS', 'BHOJPUR', 'KONDAGAON',\n",
       "       'SHAHJAHANPUR', 'BHARUCH', 'PUNE', 'BEED', 'CHANDRAPUR', 'REWA',\n",
       "       'KOKRAJHAR', 'MOKOKCHUNG', 'BALLIA', 'CHAMPAWAT', 'KARIMGANJ',\n",
       "       'CHANDIGARH', 'PRATAPGARH', 'ROHTAK', 'NASHIK', 'FARRUKHABAD',\n",
       "       'AURANGABAD', 'KACHCHH', 'JORHAT', 'KRISHNA', 'TAWANG', 'MAINPURI',\n",
       "       'WOKHA', 'UNA', 'VILLUPURAM', 'ETAH', 'BANDA', 'JAMUI', 'VADODARA',\n",
       "       'DINDORI', 'MEDINIPUR WEST', 'JHALAWAR', 'BALODA BAZAR', 'KODAGU',\n",
       "       'MAHBUBNAGAR', 'GANJAM', 'SIRMAUR', 'DARRANG', 'AURAIYA',\n",
       "       'NUAPADA', 'KAMRUP METRO', 'KHORDHA', 'PERAMBALUR', 'ARWAL',\n",
       "       'AGRA', 'LAKHISARAI', 'TIRUCHIRAPPALLI', 'SIVAGANGA', 'SIWAN',\n",
       "       'GANGANAGAR', 'NORTH DISTRICT', 'MANDSAUR', 'WEST TRIPURA',\n",
       "       'MANDYA', 'LOWER DIBANG VALLEY', 'PURBI CHAMPARAN', 'SIDHI',\n",
       "       'UPPER SUBANSIRI', 'KATHUA', 'DARBHANGA', 'BHAGALPUR',\n",
       "       'MURSHIDABAD', 'JUNAGADH', 'DHARWAD', 'KAMRUP', 'BETUL', 'HARDA',\n",
       "       'BENGALURU URBAN', 'HAMIRPUR', 'SATNA', 'LALITPUR', 'NIZAMABAD',\n",
       "       'BIRBHUM', 'JALORE', 'KHAMMAM', 'REASI', 'SAMASTIPUR', 'KOLLAM',\n",
       "       'VALSAD', 'HAILAKANDI', 'ARIYALUR', 'RAJNANDGAON', 'COOCHBEHAR',\n",
       "       'ANUGUL', 'THIRUVARUR', 'SALEM', 'AMRELI', 'BUXAR', 'KHARGONE',\n",
       "       'JHARSUGUDA', 'GORAKHPUR', 'PURI', 'PANCH MAHALS', 'RATNAGIRI',\n",
       "       'BARWANI', 'PALAMU', 'PATIALA', 'ZUNHEBOTO', 'ERNAKULAM',\n",
       "       'BALANGIR', 'DEWAS', 'MANSA', 'UDUPI', 'CHIRANG', 'KRISHNAGIRI',\n",
       "       'HINGOLI', 'CUDDALORE', 'MON', 'KANGRA', 'TIRUNELVELI',\n",
       "       'SIVASAGAR', 'KARIMNAGAR', 'BHIND', 'NORTH TRIPURA', 'SAMBALPUR',\n",
       "       'CACHAR', 'ANANTNAG', 'HISAR', 'DIBRUGARH', 'THANJAVUR',\n",
       "       'FATEHGARH SAHIB', 'MOGA', 'ASHOKNAGAR', 'HOSHANGABAD', 'MAHOBA',\n",
       "       'MEDINIPUR EAST', 'JHAJJAR', 'DHALAI', 'SOUTH GARO HILLS',\n",
       "       'RAIPUR', 'KANCHIPURAM', 'NARAYANPUR', 'BANKA', 'KURNOOL',\n",
       "       'SITAMARHI', 'BHANDARA', 'KOREA', 'RAYAGADA', 'VAISHALI', 'MANDLA',\n",
       "       'DAVANGERE', 'BULANDSHAHR', 'NALGONDA', 'NAGPUR', 'GULBARGA',\n",
       "       'ALIGARH', 'BONGAIGAON', 'SABAR KANTHA', 'INDORE', 'DANTEWADA',\n",
       "       'HARDOI', 'SHIMOGA', 'RAMANATHAPURAM', 'WAYANAD', 'FIROZABAD',\n",
       "       'ADILABAD', 'KANPUR NAGAR', 'AMROHA', 'HASSAN', 'TIKAMGARH',\n",
       "       'PORBANDAR', 'KANNUR', 'GAUTAM BUDDHA NAGAR', 'KALAHANDI',\n",
       "       'RUPNAGAR', 'SURENDRANAGAR', 'BASTI', 'KORBA', 'EAST GARO HILLS',\n",
       "       'KHANDWA', 'MAHE', 'PALI', 'MAHESANA', 'SANGRUR', 'KANNIYAKUMARI',\n",
       "       'PEREN', 'LUCKNOW', 'SAHARANPUR', 'UDHAMPUR', 'SIKAR', 'JHABUA',\n",
       "       'KARAIKAL', 'DAMOH', 'CHHATARPUR', 'SOUTH GOA', 'IMPHAL WEST',\n",
       "       'SOUTH WEST KHASI HILLS', 'DINAJPUR DAKSHIN', 'BARABANKI',\n",
       "       'CHIKBALLAPUR', 'WARANGAL', 'DEHRADUN', 'BARAMULLA', 'MEERUT',\n",
       "       'VELLORE', 'MUKTSAR', 'SURGUJA', 'BUDAUN', 'KIPHIRE', 'SRINAGAR',\n",
       "       'MUZAFFARPUR', 'UMARIA', 'MUNGELI', 'NAMAKKAL', 'GOLAGHAT',\n",
       "       'VARANASI', 'MALDAH', 'DAUSA', 'CHIKMAGALUR', 'CHURACHANDPUR',\n",
       "       'TUTICORIN', 'RI BHOI', 'RAJGARH', 'AMRAVATI', 'BARPETA',\n",
       "       'SEPAHIJALA', 'UKHRUL', 'ROHTAS', 'PAPUM PARE', 'CHITRAKOOT',\n",
       "       'TONK', 'BHILWARA', 'KINNAUR', 'SOUTH TRIPURA', 'KOHIMA',\n",
       "       'DAKSHIN KANNAD', 'JAIPUR', 'LONGLENG', 'KANDHAMAL', 'MORADABAD',\n",
       "       'DUNGARPUR', 'RAIGAD', 'SINDHUDURG', 'KARNAL', 'DIBANG VALLEY',\n",
       "       'YAVATMAL', 'DHENKANAL', 'GHAZIPUR', 'GOMATI', 'THRISSUR', 'DHAR',\n",
       "       'BIJNOR', 'UDAM SINGH NAGAR', 'CHAMPHAI', 'SAGAR',\n",
       "       'SOUTH ANDAMANS', 'EAST KHASI HILLS', 'KAIMUR (BHABUA)',\n",
       "       'SINGRAULI', 'UTTAR KASHI', 'LOWER SUBANSIRI', 'KURUKSHETRA',\n",
       "       'KORAPUT', 'EAST JAINTIA HILLS', 'MAMIT', 'THIRUVALLUR', 'SATARA',\n",
       "       'TIRUPPUR', 'FARIDKOT', 'CHAMOLI', 'ALAPPUZHA', 'GURGAON', 'GADAG',\n",
       "       'RAJSAMAND', 'GHAZIABAD', 'UNAKOTI', 'BIKANER', 'SOLAPUR',\n",
       "       'BHARATPUR', 'UJJAIN', 'GARIYABAND', 'BHADRAK',\n",
       "       '24 PARAGANAS NORTH', 'SUPAUL', 'SOUTH DISTRICT', 'SOLAN',\n",
       "       'WARDHA', 'AHMEDNAGAR', 'GURDASPUR', 'CHAMARAJANAGAR', 'SENAPATI',\n",
       "       'CHANDEL', 'FATEHABAD', 'JIND', 'LATEHAR', 'EAST DISTRICT',\n",
       "       'TIRAP', 'KODERMA', 'THANE', 'FATEHPUR', 'EAST SIANG', 'DUMKA',\n",
       "       'AIZAWL', 'BOKARO', 'PASHCHIM CHAMPARAN', 'MAU', 'AMETHI', 'BALOD',\n",
       "       'PHEK', 'YADGIR', 'WEST SIANG', 'NARMADA', 'MIRZAPUR', 'AMBALA',\n",
       "       'SHAMLI', 'GANDERBAL', 'ALMORA', 'NAVSARI', 'SURAJPUR',\n",
       "       'NANDURBAR', 'WEST KAMENG', 'PALAKKAD', 'FARIDABAD', 'NICOBARS',\n",
       "       'DODA', 'JAMMU', 'GARHWA', 'OSMANABAD', 'LEH LADAKH',\n",
       "       'SOUTH WEST GARO HILLS', 'YANAM', 'HAPUR', 'SIMDEGA', 'BARNALA',\n",
       "       'BATHINDA', 'LOHIT', 'BADGAM', 'KURUNG KUMEY', 'WEST DISTRICT',\n",
       "       'LAWNGTLAI', 'IMPHAL EAST', 'SAIHA', 'KOTTAYAM', 'CHATRA',\n",
       "       'EAST KAMENG', 'KISHTWAR', 'DANG', 'GIRIDIH', 'PULWAMA',\n",
       "       'NORTH GOA', 'SAHEBGANJ', 'MEWAT', 'JAMTARA', 'ANJAW',\n",
       "       'NORTH AND MIDDLE ANDAMAN', 'THOUBAL', 'RANCHI', 'TARN TARAN',\n",
       "       'SAMBHAL', 'NAWANSHAHR', 'FAZILKA', 'GANDHINAGAR', 'KHOWAI',\n",
       "       'SARAIKELA KHARSAWAN', 'RAJAURI', 'SHOPIAN', 'HYDERABAD',\n",
       "       'NORTH GARO HILLS', 'GUMLA', 'HAZARIBAGH', 'LOHARDAGA', 'SERCHHIP',\n",
       "       'DHANBAD', 'KUPWARA', 'LUDHIANA', 'S.A.S NAGAR', 'WEST SINGHBHUM',\n",
       "       'WEST JAINTIA HILLS', 'MUMBAI', 'KAPURTHALA', 'EAST SINGHBUM',\n",
       "       'DEOGHAR', 'POONCH', 'LAHUL AND SPITI', 'KARGIL', 'AGAR MALWA',\n",
       "       'TAPI', 'KULGAM', 'PATHANKOT', 'BANDIPORA', 'RAMGARH', 'SAMBA',\n",
       "       'RAMBAN', 'LONGDING', 'PALGHAR', 'NAMSAI', 'KHUNTI'], dtype=object)"
      ]
     },
     "execution_count": 13,
     "metadata": {},
     "output_type": "execute_result"
    }
   ],
   "source": [
    "df.District_Name.unique()"
   ]
  },
  {
   "cell_type": "code",
   "execution_count": 14,
   "id": "6148657a-acfb-4884-8e35-7de49e588dc7",
   "metadata": {},
   "outputs": [
    {
     "data": {
      "text/plain": [
       "array(['Rabi       ', 'Whole Year ', 'Summer     ', 'Winter     ',\n",
       "       'Kharif     ', 'Autumn     '], dtype=object)"
      ]
     },
     "execution_count": 14,
     "metadata": {},
     "output_type": "execute_result"
    }
   ],
   "source": [
    "df.Season.unique()"
   ]
  },
  {
   "cell_type": "code",
   "execution_count": 15,
   "id": "c16a9517-be69-4d78-bbc4-dc1e291565de",
   "metadata": {},
   "outputs": [],
   "source": [
    "# here we remove unwanted white spaces from season column \n",
    "\n",
    "df['Season']=df['Season'].apply(lambda x : x.strip())\n",
    "df['Crop']=df['Crop'].apply(lambda x : x.strip())"
   ]
  },
  {
   "cell_type": "code",
   "execution_count": 16,
   "id": "fd47addf-8e5b-47aa-8a4a-883c31bce883",
   "metadata": {},
   "outputs": [
    {
     "data": {
      "text/plain": [
       "array(['Rabi', 'Whole Year', 'Summer', 'Winter', 'Kharif', 'Autumn'],\n",
       "      dtype=object)"
      ]
     },
     "execution_count": 16,
     "metadata": {},
     "output_type": "execute_result"
    }
   ],
   "source": [
    "df.Season.unique()"
   ]
  },
  {
   "cell_type": "code",
   "execution_count": 17,
   "id": "d20a9dca-4a0a-4e35-8cd0-42a8cc8f0b61",
   "metadata": {},
   "outputs": [
    {
     "data": {
      "text/plain": [
       "Season\n",
       "Kharif        28256\n",
       "Rabi          19918\n",
       "Whole Year    16821\n",
       "Summer         4418\n",
       "Winter         1834\n",
       "Autumn         1484\n",
       "Name: count, dtype: int64"
      ]
     },
     "execution_count": 17,
     "metadata": {},
     "output_type": "execute_result"
    }
   ],
   "source": [
    "df['Season'].value_counts()"
   ]
  },
  {
   "cell_type": "code",
   "execution_count": 18,
   "id": "9d018993-ad6c-4db4-bda1-39fda6782d3f",
   "metadata": {},
   "outputs": [],
   "source": [
    "'''since there are Three types of crop out of which two are mainly seasonal Rabi and Kharif and one is for whole year but\n",
    " 5 crops season were present in our datset.we got to know that summer and Autumn synonyms of Kharif and winter is synonyms of\n",
    " of Rabi so we decided to replace with their original name which is Kharif Rabi'''\n",
    "\n",
    "df['Season']=df['Season'].apply(lambda x : x.replace('Autumn','Kharif'))\n",
    "df['Season']=df['Season'].apply(lambda x : x.replace('Summer','Kharif'))\n",
    "df['Season']=df['Season'].apply(lambda x : x.replace('Winter','Rabi'))"
   ]
  },
  {
   "cell_type": "code",
   "execution_count": 19,
   "id": "1544a995-c137-4e5b-8070-4530170f3529",
   "metadata": {},
   "outputs": [
    {
     "data": {
      "text/plain": [
       "Season\n",
       "Kharif        34158\n",
       "Rabi          21752\n",
       "Whole Year    16821\n",
       "Name: count, dtype: int64"
      ]
     },
     "execution_count": 19,
     "metadata": {},
     "output_type": "execute_result"
    }
   ],
   "source": [
    "df['Season'].value_counts()"
   ]
  },
  {
   "cell_type": "code",
   "execution_count": 20,
   "id": "e0b4c9ac-fae7-4538-bad9-22eee3ca50e5",
   "metadata": {},
   "outputs": [
    {
     "name": "stdout",
     "output_type": "stream",
     "text": [
      "After removing the row which has 0 Production : 71680\n"
     ]
    }
   ],
   "source": [
    "# we have observed that many values of production were 0 since it is representing production of whole district\n",
    "# so we decided drop all rows whose production values are zero\n",
    "\n",
    "df.drop(df[df['Production']==0].index,inplace=True)\n",
    "\n",
    "print(f'After removing the row which has 0 Production : {df.shape[0]}')"
   ]
  },
  {
   "cell_type": "code",
   "execution_count": 21,
   "id": "43a36334-ce73-43bb-b87f-e1990af6b748",
   "metadata": {},
   "outputs": [
    {
     "data": {
      "text/plain": [
       "array(['Wheat', 'Onion', 'Maize', 'Groundnut', 'Rapeseed &Mustard',\n",
       "       'Garlic', 'Coconut', 'Moong(Green Gram)', 'Other Kharif pulses',\n",
       "       'Sweet potato', 'Tobacco', 'Turmeric', 'Small millets',\n",
       "       'Sugarcane', 'Linseed', 'Banana', 'Rice', 'Cowpea(Lobia)',\n",
       "       'Sesamum', 'Sannhamp', 'Dry chillies', 'Peas & beans (Pulses)',\n",
       "       'Jowar', 'Ragi', 'Sunflower', 'Arhar/Tur', 'Lemon', 'Urad',\n",
       "       'Tomato', 'Barley', 'Other Fresh Fruits', 'Dry ginger', 'Potato',\n",
       "       'Gram', 'Castor seed', 'Arecanut', 'Soyabean', 'Niger seed',\n",
       "       'Bajra', 'Horse-gram', 'Safflower', 'Guar seed', 'Masoor',\n",
       "       'Tapioca', 'Jack Fruit', 'Pome Granet', 'Other  Rabi pulses',\n",
       "       'Korra', 'Coriander', 'Ginger', 'Cotton(lint)', 'other oilseeds',\n",
       "       'Mango', 'Jute', 'Mesta', 'Other Cereals & Millets',\n",
       "       'Pulses total', 'Tea', 'Citrus Fruit', 'Samai', 'Cashewnut',\n",
       "       'Papaya', 'Blackgram', 'Moth', 'Orange', 'Black pepper',\n",
       "       'Oilseeds total', 'Khesari', 'Cardamom', 'Rubber', 'Paddy',\n",
       "       'Brinjal', 'Total foodgrain', 'Cabbage', 'Bhindi', 'Cashewnut Raw',\n",
       "       'Beans & Mutter(Vegetable)', 'Drum Stick', 'other misc. pulses',\n",
       "       'Atcanut (Raw)', 'Turnip', 'Pineapple', 'Grapes', 'Rajmash Kholar',\n",
       "       'Pome Fruit', 'Bitter Gourd', 'Jute & mesta', 'Other Vegetables',\n",
       "       'Ricebean (nagadal)', 'Colocosia', 'Kapas', 'Cond-spcs other',\n",
       "       'Varagu', 'Cashewnut Processed', 'Arcanut (Processed)', 'Bean',\n",
       "       'Carrot', 'Sapota', 'Redish', 'Lentil', 'Perilla', 'Bottle Gourd',\n",
       "       'Jobster', 'Cauliflower'], dtype=object)"
      ]
     },
     "execution_count": 21,
     "metadata": {},
     "output_type": "execute_result"
    }
   ],
   "source": [
    "df.Crop.unique()"
   ]
  },
  {
   "cell_type": "code",
   "execution_count": 22,
   "id": "244098e7-4e9d-46ab-8cb9-f82b7b6ce89e",
   "metadata": {},
   "outputs": [],
   "source": [
    "# we have replace sub-category with their main-category \n",
    "\n",
    "df['Crop']=df['Crop'].apply(lambda x:x\n",
    "                                    .replace('Ginger','Dry ginger'))\n",
    "\n",
    "df['Crop']=df['Crop'].apply(lambda x:x\n",
    "                                    .replace('Turnip','Onion'))\n",
    "\n",
    "df['Crop']=df['Crop'].apply(lambda x:x\n",
    "                                      .replace('Cashewnut Raw','Cashewnut')\n",
    "                                      .replace('Cashewnut Processed','Cashewnut'))"
   ]
  },
  {
   "cell_type": "code",
   "execution_count": 23,
   "id": "0af621bf-ae32-471e-9432-a2042ae6046b",
   "metadata": {},
   "outputs": [],
   "source": [
    "# we have replace sub-category of pulses with pulse\n",
    "\n",
    "df['Crop']=df['Crop'].apply(lambda x:x.replace('Other Kharif pulses','pulses')\n",
    "                                    .replace('Other  Rabi pulses','pulses')\n",
    "                                    .replace('Peas & beans (Pulses)','pulses')\n",
    "                                    .replace('Pulses total','pulses')\n",
    "                                    .replace('other misc. pulses','pulses')\n",
    "                                    .replace('Moong(Green Gram)','pulses')\n",
    "                                    .replace('Urad','pulses')\n",
    "                                    .replace('Arhar/Tur','pulses')\n",
    "                                    .replace('Bean','pulses')\n",
    "                                    .replace('Ricebean (nagadal)','pulses')\n",
    "                                    .replace('Lentil','pulses')\n",
    "                                    .replace('Masoor','pulses')\n",
    "                                    .replace('Khesari','pulses')\n",
    "                                    .replace('Horse-gram','pulses')\n",
    "                                    .replace('Rajmash Kholar','pulses'))"
   ]
  },
  {
   "cell_type": "code",
   "execution_count": 24,
   "id": "8a01361b-8414-4b38-8e74-af72afe3a3a5",
   "metadata": {},
   "outputs": [],
   "source": [
    "#since number of rows for every fruits category were very less so we decided to merge all to fruits\n",
    "\n",
    "df['Crop']=df['Crop'].apply(lambda x:x\n",
    "                                    .replace('Papaya','Fruits')\n",
    "                                    .replace('Mango','Fruits')\n",
    "                                     .replace('Orange','Fruits')\n",
    "                                     .replace('Other Fresh Fruits','Fruits')\n",
    "                                     .replace('Pineapple','Fruits')\n",
    "                                     .replace('Citrus Fruit','Fruits')\n",
    "                                     .replace('Pome Fruit','Fruits')\n",
    "                                     .replace('Pome Granet','Fruits')\n",
    "                                     .replace('Grapes','Fruits')\n",
    "                                     .replace('Jack Fruit','Fruits')\n",
    "                                     .replace('Sapota','Fruits')\n",
    "                                     .replace('Lemon','Fruits'))"
   ]
  },
  {
   "cell_type": "code",
   "execution_count": 25,
   "id": "4063e34d-19b1-4b4a-a0c7-caf7179ece31",
   "metadata": {},
   "outputs": [],
   "source": [
    "# we have replace sub-category of gram with their main-category \n",
    "\n",
    "df['Crop']=df['Crop'].apply(lambda x:x\n",
    "                                      .replace('black gram','gram')\n",
    "                                     .replace('Moth','gram')\n",
    "                                     .replace('Blackgram','gram')\n",
    "                                      .replace('Gram','gram'))"
   ]
  },
  {
   "cell_type": "code",
   "execution_count": 26,
   "id": "7b428d97-fb53-4e94-ac9d-290881837720",
   "metadata": {},
   "outputs": [],
   "source": [
    "# we have replace other Oilseeds total to  other oilseeds\n",
    "\n",
    "df['Crop']=df['Crop'].apply(lambda x:x\n",
    "                                      .replace('Oilseeds total' ,'other oilseeds')\n",
    "                                      .replace('Niger seed' ,'other oilseeds'))"
   ]
  },
  {
   "cell_type": "code",
   "execution_count": 27,
   "id": "9af7c602-3088-456f-b795-0d1f39e3c3f3",
   "metadata": {},
   "outputs": [],
   "source": [
    "# we have replace sub-category of milltes with their main-category \n",
    "\n",
    "df['Crop']=df['Crop'].apply(lambda x:x\n",
    "                                      .replace('Other Cereals & Millets' ,'Bajra')\n",
    "                                      .replace('Samai' ,'Bajra')\n",
    "                                      .replace('Small millets' ,'Bajra')\n",
    "                                      .replace('Ragi','Bajra')\n",
    "                                      .replace('Varagu','Bajra')\n",
    "                                      .replace('Jobster','Bajra'))"
   ]
  },
  {
   "cell_type": "code",
   "execution_count": 28,
   "id": "64b7ae3d-43ad-4ca1-935b-7833f98a7ac6",
   "metadata": {},
   "outputs": [],
   "source": [
    "# we have replace sub-category of Vegetables with their main-category \n",
    "\n",
    "df['Crop']=df['Crop'].apply(lambda x:x\n",
    "                                     .replace('Coriander' ,'Other Vegetables')\n",
    "                                     .replace('pulsess & Mutter(Vegetable)' ,'Other Vegetables')\n",
    "                                     .replace('Bhindi' ,'Other Vegetables')\n",
    "                                     .replace('Tomato','Other Vegetables')\n",
    "                                     .replace('Cowpea(Lobia)','Other Vegetables')\n",
    "                                     .replace('Cabbage','Other Vegetables')\n",
    "                                     .replace('Carrot','Other Vegetables')\n",
    "                                     .replace('Drum Stick','Other Vegetables')\n",
    "                                     .replace('Redish','Other Vegetables')\n",
    "                                     .replace('Cauliflower','Other Vegetables')\n",
    "                                     .replace('Colocosia','Other Vegetables')\n",
    "                                     .replace('Brinjal','Other Vegetables')\n",
    "                                     .replace('Bottle Gourd','Other Vegetables')\n",
    "                                     .replace('Bitter Gourd','Other Vegetables'))"
   ]
  },
  {
   "cell_type": "code",
   "execution_count": 29,
   "id": "4c291197-63f1-4187-bb06-fa958483be39",
   "metadata": {},
   "outputs": [],
   "source": [
    "#we have replace sub-category with their main-category\n",
    "\n",
    "df['Crop']=df['Crop'].apply(lambda x:x.replace('Niger seed','Sesamum'))\n",
    "df['Crop']=df['Crop'].apply(lambda x:x.replace('Korra','Total foodgrain'))\n",
    "df['Crop']=df['Crop'].apply(lambda x:x.replace('Paddy','Rice'))"
   ]
  },
  {
   "cell_type": "code",
   "execution_count": 30,
   "id": "be79c62f-b514-4431-a813-c8556af75e72",
   "metadata": {},
   "outputs": [],
   "source": [
    "#we have observed some cropes rows are very very less so it wont make any sense to visualization so we decided to drop those rows\n",
    "\n",
    "df.drop(df[df['Crop']=='Tea'].index,inplace=True)\n",
    "df.drop(df[df['Crop']=='Coffee'].index,inplace=True)\n",
    "df.drop(df[df['Crop']=='Rubber'].index,inplace=True)\n",
    "df.drop(df[df['Crop']=='Cond-spcs other'].index,inplace=True)"
   ]
  },
  {
   "cell_type": "code",
   "execution_count": 31,
   "id": "22c09cc1-1bdf-4983-a0a1-2e05f4a30002",
   "metadata": {},
   "outputs": [],
   "source": [
    "# we have replaced  kapas to cotton etc.\n",
    "\n",
    "df['Crop']=df['Crop'].apply(lambda x:x.replace('Kapas','Cotton(lint)')\n",
    "                                      .replace('Cotton(lint)','Cotton'))\n",
    "\n",
    "df.replace('Jute & mesta','Jute',inplace=True)\n",
    "df.replace('Mesta','Jute',inplace=True)"
   ]
  },
  {
   "cell_type": "code",
   "execution_count": 32,
   "id": "3753fb9a-af32-43c3-ba0c-98c65cc869e8",
   "metadata": {},
   "outputs": [],
   "source": [
    "#we have corrected spelling mistake\n",
    "\n",
    "df['Crop']=df['Crop'].apply(lambda x:x\n",
    "                                    .replace('Atcanut (Raw)','Arecanut')\n",
    "                                    .replace('Arcanut (Processed)','Arecanut')\n",
    "                                    .replace('Arecanut','Arecanut'))"
   ]
  },
  {
   "cell_type": "code",
   "execution_count": 33,
   "id": "83cb11e1-5ee7-4f0e-8af9-ee177ed32b2e",
   "metadata": {},
   "outputs": [
    {
     "data": {
      "text/plain": [
       "array(['Wheat', 'Onion', 'Maize', 'Groundnut', 'Rapeseed &Mustard',\n",
       "       'Garlic', 'Coconut', 'pulses', 'Sweet potato', 'Tobacco',\n",
       "       'Turmeric', 'Bajra', 'Sugarcane', 'Linseed', 'Banana', 'Rice',\n",
       "       'Other Vegetables', 'Sesamum', 'Sannhamp', 'Dry chillies', 'Jowar',\n",
       "       'Sunflower', 'Fruits', 'Barley', 'Dry ginger', 'Potato', 'gram',\n",
       "       'Castor seed', 'Arecanut', 'Soyabean', 'other oilseeds',\n",
       "       'Safflower', 'Guar seed', 'Tapioca', 'Total foodgrain', 'Cotton',\n",
       "       'Jute', 'Cashewnut', 'Black pepper', 'Cardamom', 'Perilla'],\n",
       "      dtype=object)"
      ]
     },
     "execution_count": 33,
     "metadata": {},
     "output_type": "execute_result"
    }
   ],
   "source": [
    "# checking unique crops types after replacement\n",
    "\n",
    "df.Crop.unique()"
   ]
  },
  {
   "cell_type": "code",
   "execution_count": 34,
   "id": "c3d9cf05-d9e7-404a-8ad9-d141e7619371",
   "metadata": {},
   "outputs": [],
   "source": [
    "# saving cleaned data file\n",
    "\n",
    "df.to_csv('Crop_clean.csv')"
   ]
  },
  {
   "cell_type": "code",
   "execution_count": null,
   "id": "bbaeee6f-67bc-44f1-9cc7-9a11a43b8733",
   "metadata": {},
   "outputs": [],
   "source": [
    "clean_df = pd.read_csv('C"
   ]
  }
 ],
 "metadata": {
  "kernelspec": {
   "display_name": "Python 3 (ipykernel)",
   "language": "python",
   "name": "python3"
  },
  "language_info": {
   "codemirror_mode": {
    "name": "ipython",
    "version": 3
   },
   "file_extension": ".py",
   "mimetype": "text/x-python",
   "name": "python",
   "nbconvert_exporter": "python",
   "pygments_lexer": "ipython3",
   "version": "3.11.2"
  }
 },
 "nbformat": 4,
 "nbformat_minor": 5
}
